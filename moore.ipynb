{
 "cells": [
  {
   "cell_type": "code",
   "execution_count": 20,
   "metadata": {},
   "outputs": [],
   "source": [
    "from Moore import Moore"
   ]
  },
  {
   "cell_type": "code",
   "execution_count": 28,
   "metadata": {},
   "outputs": [],
   "source": [
    "moore = Moore(range(4),\n",
    "              range(2),\n",
    "              range(3),\n",
    "              {\n",
    "                  0 : {\n",
    "                      0 : 1,\n",
    "                      1 : 3\n",
    "\n",
    "                  },\n",
    "                  1: {\n",
    "                      0: 3,\n",
    "                      1: 1\n",
    "\n",
    "                  },\n",
    "                  2: {\n",
    "                      0: 0,\n",
    "                      1: 3\n",
    "\n",
    "                  },\n",
    "                  3: {\n",
    "                      0: 3,\n",
    "                      1: 2\n",
    "\n",
    "                  }\n",
    "\n",
    "\n",
    "              },\n",
    "\n",
    "              0,\n",
    "              {\n",
    "                  0 : [1],\n",
    "                  1 : [0],\n",
    "                  2 : [0],\n",
    "                  3 : [1,2]\n",
    "              }\n",
    "\n",
    "\n",
    "              )"
   ]
  },
  {
   "cell_type": "code",
   "execution_count": 29,
   "metadata": {},
   "outputs": [
    {
     "name": "stdout",
     "output_type": "stream",
     "text": [
      "\n",
      "Moore Machine\n",
      "States range(0, 4)\n",
      "Input Alphabet range(0, 2)\n",
      "Output Alphabet range(0, 3)\n",
      "Transitions {0: {0: 1, 1: 3}, 1: {0: 3, 1: 1}, 2: {0: 0, 1: 3}, 3: {0: 3, 1: 2}}\n",
      "Initial State0\n",
      "Output Table {0: [1], 1: [0], 2: [0], 3: [1, 2]}\n"
     ]
    }
   ],
   "source": [
    "print(moore)"
   ]
  },
  {
   "cell_type": "code",
   "execution_count": 30,
   "metadata": {},
   "outputs": [
    {
     "name": "stdout",
     "output_type": "stream",
     "text": [
      "[1, 0, 0, 0, 0, 1, 2]\n"
     ]
    }
   ],
   "source": [
    "print(moore.transcode([0,1,1,1,0]))"
   ]
  },
  {
   "cell_type": "code",
   "execution_count": 14,
   "metadata": {},
   "outputs": [
    {
     "name": "stdout",
     "output_type": "stream",
     "text": [
      "100001\n"
     ]
    }
   ],
   "source": [
    "print(moore.get_output_from_string('abbba'))"
   ]
  }
 ],
 "metadata": {
  "kernelspec": {
   "display_name": "env",
   "language": "python",
   "name": "python3"
  },
  "language_info": {
   "codemirror_mode": {
    "name": "ipython",
    "version": 3
   },
   "file_extension": ".py",
   "mimetype": "text/x-python",
   "name": "python",
   "nbconvert_exporter": "python",
   "pygments_lexer": "ipython3",
   "version": "3.11.3"
  },
  "orig_nbformat": 4
 },
 "nbformat": 4,
 "nbformat_minor": 2
}
