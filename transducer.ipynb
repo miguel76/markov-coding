{
 "cells": [
  {
   "cell_type": "code",
   "execution_count": 1,
   "metadata": {},
   "outputs": [],
   "source": [
    "from frtt import FunctionalRealtimeTransducer\n",
    "from reverseTransducer import reverse_transducer\n",
    "from simplifyTransducer import simplify_transducer"
   ]
  },
  {
   "cell_type": "code",
   "execution_count": 2,
   "metadata": {},
   "outputs": [],
   "source": [
    "simple_transducer = FunctionalRealtimeTransducer({\n",
    "    0: {0:(0,[2,2,2]),1:(1,[])},\n",
    "    1: {0:(0,[2,2,3]),1:(2,[])},\n",
    "    2: {0:(0,[2,3]),1:(0,[3])},\n",
    "})"
   ]
  },
  {
   "cell_type": "code",
   "execution_count": 3,
   "metadata": {},
   "outputs": [],
   "source": [
    "inverse_st = reverse_transducer(simple_transducer)"
   ]
  },
  {
   "cell_type": "code",
   "execution_count": 4,
   "metadata": {},
   "outputs": [
    {
     "data": {
      "text/plain": [
       "[2, 3, 2, 2, 2, 3, 2, 2, 3, 3, 2, 2, 2]"
      ]
     },
     "execution_count": 4,
     "metadata": {},
     "output_type": "execute_result"
    }
   ],
   "source": [
    "simple_transducer.transcode(inverse_st.transcode([2,3,2,2,2,3,2,2,3,3,2,2,2]))"
   ]
  }
 ],
 "metadata": {
  "kernelspec": {
   "display_name": "Python 3",
   "language": "python",
   "name": "python3"
  },
  "language_info": {
   "codemirror_mode": {
    "name": "ipython",
    "version": 3
   },
   "file_extension": ".py",
   "mimetype": "text/x-python",
   "name": "python",
   "nbconvert_exporter": "python",
   "pygments_lexer": "ipython3",
   "version": "3.11.3"
  },
  "orig_nbformat": 4,
  "vscode": {
   "interpreter": {
    "hash": "13c6ac28fed07205b72e4c350fb1d390aad55e2e45d6bba60e7aad8ea6859cca"
   }
  }
 },
 "nbformat": 4,
 "nbformat_minor": 2
}
